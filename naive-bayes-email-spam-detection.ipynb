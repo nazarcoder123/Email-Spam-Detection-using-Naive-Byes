{
 "cells": [
  {
   "cell_type": "code",
   "execution_count": 1,
   "id": "99466319",
   "metadata": {
    "execution": {
     "iopub.execute_input": "2023-07-09T11:01:38.366594Z",
     "iopub.status.busy": "2023-07-09T11:01:38.366095Z",
     "iopub.status.idle": "2023-07-09T11:01:39.979813Z",
     "shell.execute_reply": "2023-07-09T11:01:39.978703Z"
    },
    "papermill": {
     "duration": 1.626688,
     "end_time": "2023-07-09T11:01:39.982785",
     "exception": false,
     "start_time": "2023-07-09T11:01:38.356097",
     "status": "completed"
    },
    "tags": []
   },
   "outputs": [],
   "source": [
    "import numpy as np\n",
    "import pandas as pd\n",
    "import seaborn as sns\n",
    "import matplotlib.pyplot as plt"
   ]
  },
  {
   "cell_type": "code",
   "execution_count": 2,
   "id": "c91a6216",
   "metadata": {
    "execution": {
     "iopub.execute_input": "2023-07-09T11:01:39.999401Z",
     "iopub.status.busy": "2023-07-09T11:01:39.998988Z",
     "iopub.status.idle": "2023-07-09T11:01:40.045281Z",
     "shell.execute_reply": "2023-07-09T11:01:40.044269Z"
    },
    "papermill": {
     "duration": 0.05794,
     "end_time": "2023-07-09T11:01:40.048147",
     "exception": false,
     "start_time": "2023-07-09T11:01:39.990207",
     "status": "completed"
    },
    "tags": []
   },
   "outputs": [],
   "source": [
    "df = pd.read_csv(\"/kaggle/input/spam-email/spam.csv\")"
   ]
  },
  {
   "cell_type": "code",
   "execution_count": 3,
   "id": "a0ceeea8",
   "metadata": {
    "execution": {
     "iopub.execute_input": "2023-07-09T11:01:40.064974Z",
     "iopub.status.busy": "2023-07-09T11:01:40.064552Z",
     "iopub.status.idle": "2023-07-09T11:01:40.095873Z",
     "shell.execute_reply": "2023-07-09T11:01:40.094082Z"
    },
    "papermill": {
     "duration": 0.043827,
     "end_time": "2023-07-09T11:01:40.099230",
     "exception": false,
     "start_time": "2023-07-09T11:01:40.055403",
     "status": "completed"
    },
    "tags": []
   },
   "outputs": [
    {
     "data": {
      "text/html": [
       "<div>\n",
       "<style scoped>\n",
       "    .dataframe tbody tr th:only-of-type {\n",
       "        vertical-align: middle;\n",
       "    }\n",
       "\n",
       "    .dataframe tbody tr th {\n",
       "        vertical-align: top;\n",
       "    }\n",
       "\n",
       "    .dataframe thead th {\n",
       "        text-align: right;\n",
       "    }\n",
       "</style>\n",
       "<table border=\"1\" class=\"dataframe\">\n",
       "  <thead>\n",
       "    <tr style=\"text-align: right;\">\n",
       "      <th></th>\n",
       "      <th>Category</th>\n",
       "      <th>Message</th>\n",
       "    </tr>\n",
       "  </thead>\n",
       "  <tbody>\n",
       "    <tr>\n",
       "      <th>0</th>\n",
       "      <td>ham</td>\n",
       "      <td>Go until jurong point, crazy.. Available only ...</td>\n",
       "    </tr>\n",
       "    <tr>\n",
       "      <th>1</th>\n",
       "      <td>ham</td>\n",
       "      <td>Ok lar... Joking wif u oni...</td>\n",
       "    </tr>\n",
       "    <tr>\n",
       "      <th>2</th>\n",
       "      <td>spam</td>\n",
       "      <td>Free entry in 2 a wkly comp to win FA Cup fina...</td>\n",
       "    </tr>\n",
       "    <tr>\n",
       "      <th>3</th>\n",
       "      <td>ham</td>\n",
       "      <td>U dun say so early hor... U c already then say...</td>\n",
       "    </tr>\n",
       "    <tr>\n",
       "      <th>4</th>\n",
       "      <td>ham</td>\n",
       "      <td>Nah I don't think he goes to usf, he lives aro...</td>\n",
       "    </tr>\n",
       "  </tbody>\n",
       "</table>\n",
       "</div>"
      ],
      "text/plain": [
       "  Category                                            Message\n",
       "0      ham  Go until jurong point, crazy.. Available only ...\n",
       "1      ham                      Ok lar... Joking wif u oni...\n",
       "2     spam  Free entry in 2 a wkly comp to win FA Cup fina...\n",
       "3      ham  U dun say so early hor... U c already then say...\n",
       "4      ham  Nah I don't think he goes to usf, he lives aro..."
      ]
     },
     "execution_count": 3,
     "metadata": {},
     "output_type": "execute_result"
    }
   ],
   "source": [
    "df.head()"
   ]
  },
  {
   "cell_type": "code",
   "execution_count": 4,
   "id": "ef96be6d",
   "metadata": {
    "execution": {
     "iopub.execute_input": "2023-07-09T11:01:40.116594Z",
     "iopub.status.busy": "2023-07-09T11:01:40.116205Z",
     "iopub.status.idle": "2023-07-09T11:01:40.167421Z",
     "shell.execute_reply": "2023-07-09T11:01:40.166273Z"
    },
    "papermill": {
     "duration": 0.062763,
     "end_time": "2023-07-09T11:01:40.170044",
     "exception": false,
     "start_time": "2023-07-09T11:01:40.107281",
     "status": "completed"
    },
    "tags": []
   },
   "outputs": [
    {
     "data": {
      "text/html": [
       "<div>\n",
       "<style scoped>\n",
       "    .dataframe tbody tr th:only-of-type {\n",
       "        vertical-align: middle;\n",
       "    }\n",
       "\n",
       "    .dataframe tbody tr th {\n",
       "        vertical-align: top;\n",
       "    }\n",
       "\n",
       "    .dataframe thead tr th {\n",
       "        text-align: left;\n",
       "    }\n",
       "\n",
       "    .dataframe thead tr:last-of-type th {\n",
       "        text-align: right;\n",
       "    }\n",
       "</style>\n",
       "<table border=\"1\" class=\"dataframe\">\n",
       "  <thead>\n",
       "    <tr>\n",
       "      <th></th>\n",
       "      <th colspan=\"4\" halign=\"left\">Message</th>\n",
       "    </tr>\n",
       "    <tr>\n",
       "      <th></th>\n",
       "      <th>count</th>\n",
       "      <th>unique</th>\n",
       "      <th>top</th>\n",
       "      <th>freq</th>\n",
       "    </tr>\n",
       "    <tr>\n",
       "      <th>Category</th>\n",
       "      <th></th>\n",
       "      <th></th>\n",
       "      <th></th>\n",
       "      <th></th>\n",
       "    </tr>\n",
       "  </thead>\n",
       "  <tbody>\n",
       "    <tr>\n",
       "      <th>ham</th>\n",
       "      <td>4825</td>\n",
       "      <td>4516</td>\n",
       "      <td>Sorry, I'll call later</td>\n",
       "      <td>30</td>\n",
       "    </tr>\n",
       "    <tr>\n",
       "      <th>spam</th>\n",
       "      <td>747</td>\n",
       "      <td>641</td>\n",
       "      <td>Please call our customer service representativ...</td>\n",
       "      <td>4</td>\n",
       "    </tr>\n",
       "  </tbody>\n",
       "</table>\n",
       "</div>"
      ],
      "text/plain": [
       "         Message                                                            \\\n",
       "           count unique                                                top   \n",
       "Category                                                                     \n",
       "ham         4825   4516                             Sorry, I'll call later   \n",
       "spam         747    641  Please call our customer service representativ...   \n",
       "\n",
       "               \n",
       "         freq  \n",
       "Category       \n",
       "ham        30  \n",
       "spam        4  "
      ]
     },
     "execution_count": 4,
     "metadata": {},
     "output_type": "execute_result"
    }
   ],
   "source": [
    "df.groupby(\"Category\").describe()"
   ]
  },
  {
   "cell_type": "code",
   "execution_count": 5,
   "id": "6f178b2c",
   "metadata": {
    "execution": {
     "iopub.execute_input": "2023-07-09T11:01:40.189194Z",
     "iopub.status.busy": "2023-07-09T11:01:40.188771Z",
     "iopub.status.idle": "2023-07-09T11:01:40.200954Z",
     "shell.execute_reply": "2023-07-09T11:01:40.199805Z"
    },
    "papermill": {
     "duration": 0.025577,
     "end_time": "2023-07-09T11:01:40.203569",
     "exception": false,
     "start_time": "2023-07-09T11:01:40.177992",
     "status": "completed"
    },
    "tags": []
   },
   "outputs": [],
   "source": [
    "df[\"spam\"] = df[\"Category\"].replace({\"ham\":0,\"spam\":1})"
   ]
  },
  {
   "cell_type": "code",
   "execution_count": 6,
   "id": "64849de9",
   "metadata": {
    "execution": {
     "iopub.execute_input": "2023-07-09T11:01:40.221293Z",
     "iopub.status.busy": "2023-07-09T11:01:40.220914Z",
     "iopub.status.idle": "2023-07-09T11:01:40.231835Z",
     "shell.execute_reply": "2023-07-09T11:01:40.230720Z"
    },
    "papermill": {
     "duration": 0.022933,
     "end_time": "2023-07-09T11:01:40.234443",
     "exception": false,
     "start_time": "2023-07-09T11:01:40.211510",
     "status": "completed"
    },
    "tags": []
   },
   "outputs": [
    {
     "data": {
      "text/html": [
       "<div>\n",
       "<style scoped>\n",
       "    .dataframe tbody tr th:only-of-type {\n",
       "        vertical-align: middle;\n",
       "    }\n",
       "\n",
       "    .dataframe tbody tr th {\n",
       "        vertical-align: top;\n",
       "    }\n",
       "\n",
       "    .dataframe thead th {\n",
       "        text-align: right;\n",
       "    }\n",
       "</style>\n",
       "<table border=\"1\" class=\"dataframe\">\n",
       "  <thead>\n",
       "    <tr style=\"text-align: right;\">\n",
       "      <th></th>\n",
       "      <th>Category</th>\n",
       "      <th>Message</th>\n",
       "      <th>spam</th>\n",
       "    </tr>\n",
       "  </thead>\n",
       "  <tbody>\n",
       "    <tr>\n",
       "      <th>0</th>\n",
       "      <td>ham</td>\n",
       "      <td>Go until jurong point, crazy.. Available only ...</td>\n",
       "      <td>0</td>\n",
       "    </tr>\n",
       "    <tr>\n",
       "      <th>1</th>\n",
       "      <td>ham</td>\n",
       "      <td>Ok lar... Joking wif u oni...</td>\n",
       "      <td>0</td>\n",
       "    </tr>\n",
       "    <tr>\n",
       "      <th>2</th>\n",
       "      <td>spam</td>\n",
       "      <td>Free entry in 2 a wkly comp to win FA Cup fina...</td>\n",
       "      <td>1</td>\n",
       "    </tr>\n",
       "    <tr>\n",
       "      <th>3</th>\n",
       "      <td>ham</td>\n",
       "      <td>U dun say so early hor... U c already then say...</td>\n",
       "      <td>0</td>\n",
       "    </tr>\n",
       "    <tr>\n",
       "      <th>4</th>\n",
       "      <td>ham</td>\n",
       "      <td>Nah I don't think he goes to usf, he lives aro...</td>\n",
       "      <td>0</td>\n",
       "    </tr>\n",
       "  </tbody>\n",
       "</table>\n",
       "</div>"
      ],
      "text/plain": [
       "  Category                                            Message  spam\n",
       "0      ham  Go until jurong point, crazy.. Available only ...     0\n",
       "1      ham                      Ok lar... Joking wif u oni...     0\n",
       "2     spam  Free entry in 2 a wkly comp to win FA Cup fina...     1\n",
       "3      ham  U dun say so early hor... U c already then say...     0\n",
       "4      ham  Nah I don't think he goes to usf, he lives aro...     0"
      ]
     },
     "execution_count": 6,
     "metadata": {},
     "output_type": "execute_result"
    }
   ],
   "source": [
    "df.head()"
   ]
  },
  {
   "cell_type": "code",
   "execution_count": 7,
   "id": "cce57c92",
   "metadata": {
    "execution": {
     "iopub.execute_input": "2023-07-09T11:01:40.252478Z",
     "iopub.status.busy": "2023-07-09T11:01:40.252104Z",
     "iopub.status.idle": "2023-07-09T11:01:40.257365Z",
     "shell.execute_reply": "2023-07-09T11:01:40.256182Z"
    },
    "papermill": {
     "duration": 0.017011,
     "end_time": "2023-07-09T11:01:40.259780",
     "exception": false,
     "start_time": "2023-07-09T11:01:40.242769",
     "status": "completed"
    },
    "tags": []
   },
   "outputs": [],
   "source": [
    "x = df.iloc[:,1]\n",
    "y = df.iloc[:,-1]"
   ]
  },
  {
   "cell_type": "code",
   "execution_count": 8,
   "id": "57e685d7",
   "metadata": {
    "execution": {
     "iopub.execute_input": "2023-07-09T11:01:40.278264Z",
     "iopub.status.busy": "2023-07-09T11:01:40.277832Z",
     "iopub.status.idle": "2023-07-09T11:01:40.560661Z",
     "shell.execute_reply": "2023-07-09T11:01:40.559526Z"
    },
    "papermill": {
     "duration": 0.295242,
     "end_time": "2023-07-09T11:01:40.563484",
     "exception": false,
     "start_time": "2023-07-09T11:01:40.268242",
     "status": "completed"
    },
    "tags": []
   },
   "outputs": [],
   "source": [
    "from sklearn.model_selection import train_test_split\n",
    "x_train,x_test,y_train,y_test = train_test_split(x,y,test_size=0.25)"
   ]
  },
  {
   "cell_type": "markdown",
   "id": "424505b5",
   "metadata": {
    "papermill": {
     "duration": 0.008301,
     "end_time": "2023-07-09T11:01:40.579801",
     "exception": false,
     "start_time": "2023-07-09T11:01:40.571500",
     "status": "completed"
    },
    "tags": []
   },
   "source": [
    "## To convert the messages columns into o and 1's we use CounterVectorizer"
   ]
  },
  {
   "cell_type": "code",
   "execution_count": 9,
   "id": "f06de4da",
   "metadata": {
    "execution": {
     "iopub.execute_input": "2023-07-09T11:01:40.597252Z",
     "iopub.status.busy": "2023-07-09T11:01:40.596839Z",
     "iopub.status.idle": "2023-07-09T11:01:40.613915Z",
     "shell.execute_reply": "2023-07-09T11:01:40.612843Z"
    },
    "papermill": {
     "duration": 0.029054,
     "end_time": "2023-07-09T11:01:40.616787",
     "exception": false,
     "start_time": "2023-07-09T11:01:40.587733",
     "status": "completed"
    },
    "tags": []
   },
   "outputs": [],
   "source": [
    "from sklearn.feature_extraction.text import CountVectorizer"
   ]
  },
  {
   "cell_type": "code",
   "execution_count": 10,
   "id": "67c706ea",
   "metadata": {
    "execution": {
     "iopub.execute_input": "2023-07-09T11:01:40.635014Z",
     "iopub.status.busy": "2023-07-09T11:01:40.634584Z",
     "iopub.status.idle": "2023-07-09T11:01:40.639256Z",
     "shell.execute_reply": "2023-07-09T11:01:40.638006Z"
    },
    "papermill": {
     "duration": 0.016648,
     "end_time": "2023-07-09T11:01:40.641569",
     "exception": false,
     "start_time": "2023-07-09T11:01:40.624921",
     "status": "completed"
    },
    "tags": []
   },
   "outputs": [],
   "source": [
    "v = CountVectorizer()"
   ]
  },
  {
   "cell_type": "code",
   "execution_count": 11,
   "id": "3040a6b3",
   "metadata": {
    "execution": {
     "iopub.execute_input": "2023-07-09T11:01:40.659421Z",
     "iopub.status.busy": "2023-07-09T11:01:40.659048Z",
     "iopub.status.idle": "2023-07-09T11:01:40.790402Z",
     "shell.execute_reply": "2023-07-09T11:01:40.789250Z"
    },
    "papermill": {
     "duration": 0.144045,
     "end_time": "2023-07-09T11:01:40.793537",
     "exception": false,
     "start_time": "2023-07-09T11:01:40.649492",
     "status": "completed"
    },
    "tags": []
   },
   "outputs": [],
   "source": [
    "x_train_count = v.fit_transform(x_train.values)\n",
    "#x_train_count.toarray()[:3]"
   ]
  },
  {
   "cell_type": "code",
   "execution_count": 12,
   "id": "923e5eaf",
   "metadata": {
    "execution": {
     "iopub.execute_input": "2023-07-09T11:01:40.811266Z",
     "iopub.status.busy": "2023-07-09T11:01:40.810840Z",
     "iopub.status.idle": "2023-07-09T11:01:40.826266Z",
     "shell.execute_reply": "2023-07-09T11:01:40.825046Z"
    },
    "papermill": {
     "duration": 0.027315,
     "end_time": "2023-07-09T11:01:40.828910",
     "exception": false,
     "start_time": "2023-07-09T11:01:40.801595",
     "status": "completed"
    },
    "tags": []
   },
   "outputs": [],
   "source": [
    "from sklearn.naive_bayes import MultinomialNB"
   ]
  },
  {
   "cell_type": "code",
   "execution_count": 13,
   "id": "9d2e7a4f",
   "metadata": {
    "execution": {
     "iopub.execute_input": "2023-07-09T11:01:40.846572Z",
     "iopub.status.busy": "2023-07-09T11:01:40.846154Z",
     "iopub.status.idle": "2023-07-09T11:01:40.864866Z",
     "shell.execute_reply": "2023-07-09T11:01:40.863686Z"
    },
    "papermill": {
     "duration": 0.030214,
     "end_time": "2023-07-09T11:01:40.867236",
     "exception": false,
     "start_time": "2023-07-09T11:01:40.837022",
     "status": "completed"
    },
    "tags": []
   },
   "outputs": [
    {
     "data": {
      "text/html": [
       "<style>#sk-container-id-1 {color: black;background-color: white;}#sk-container-id-1 pre{padding: 0;}#sk-container-id-1 div.sk-toggleable {background-color: white;}#sk-container-id-1 label.sk-toggleable__label {cursor: pointer;display: block;width: 100%;margin-bottom: 0;padding: 0.3em;box-sizing: border-box;text-align: center;}#sk-container-id-1 label.sk-toggleable__label-arrow:before {content: \"▸\";float: left;margin-right: 0.25em;color: #696969;}#sk-container-id-1 label.sk-toggleable__label-arrow:hover:before {color: black;}#sk-container-id-1 div.sk-estimator:hover label.sk-toggleable__label-arrow:before {color: black;}#sk-container-id-1 div.sk-toggleable__content {max-height: 0;max-width: 0;overflow: hidden;text-align: left;background-color: #f0f8ff;}#sk-container-id-1 div.sk-toggleable__content pre {margin: 0.2em;color: black;border-radius: 0.25em;background-color: #f0f8ff;}#sk-container-id-1 input.sk-toggleable__control:checked~div.sk-toggleable__content {max-height: 200px;max-width: 100%;overflow: auto;}#sk-container-id-1 input.sk-toggleable__control:checked~label.sk-toggleable__label-arrow:before {content: \"▾\";}#sk-container-id-1 div.sk-estimator input.sk-toggleable__control:checked~label.sk-toggleable__label {background-color: #d4ebff;}#sk-container-id-1 div.sk-label input.sk-toggleable__control:checked~label.sk-toggleable__label {background-color: #d4ebff;}#sk-container-id-1 input.sk-hidden--visually {border: 0;clip: rect(1px 1px 1px 1px);clip: rect(1px, 1px, 1px, 1px);height: 1px;margin: -1px;overflow: hidden;padding: 0;position: absolute;width: 1px;}#sk-container-id-1 div.sk-estimator {font-family: monospace;background-color: #f0f8ff;border: 1px dotted black;border-radius: 0.25em;box-sizing: border-box;margin-bottom: 0.5em;}#sk-container-id-1 div.sk-estimator:hover {background-color: #d4ebff;}#sk-container-id-1 div.sk-parallel-item::after {content: \"\";width: 100%;border-bottom: 1px solid gray;flex-grow: 1;}#sk-container-id-1 div.sk-label:hover label.sk-toggleable__label {background-color: #d4ebff;}#sk-container-id-1 div.sk-serial::before {content: \"\";position: absolute;border-left: 1px solid gray;box-sizing: border-box;top: 0;bottom: 0;left: 50%;z-index: 0;}#sk-container-id-1 div.sk-serial {display: flex;flex-direction: column;align-items: center;background-color: white;padding-right: 0.2em;padding-left: 0.2em;position: relative;}#sk-container-id-1 div.sk-item {position: relative;z-index: 1;}#sk-container-id-1 div.sk-parallel {display: flex;align-items: stretch;justify-content: center;background-color: white;position: relative;}#sk-container-id-1 div.sk-item::before, #sk-container-id-1 div.sk-parallel-item::before {content: \"\";position: absolute;border-left: 1px solid gray;box-sizing: border-box;top: 0;bottom: 0;left: 50%;z-index: -1;}#sk-container-id-1 div.sk-parallel-item {display: flex;flex-direction: column;z-index: 1;position: relative;background-color: white;}#sk-container-id-1 div.sk-parallel-item:first-child::after {align-self: flex-end;width: 50%;}#sk-container-id-1 div.sk-parallel-item:last-child::after {align-self: flex-start;width: 50%;}#sk-container-id-1 div.sk-parallel-item:only-child::after {width: 0;}#sk-container-id-1 div.sk-dashed-wrapped {border: 1px dashed gray;margin: 0 0.4em 0.5em 0.4em;box-sizing: border-box;padding-bottom: 0.4em;background-color: white;}#sk-container-id-1 div.sk-label label {font-family: monospace;font-weight: bold;display: inline-block;line-height: 1.2em;}#sk-container-id-1 div.sk-label-container {text-align: center;}#sk-container-id-1 div.sk-container {/* jupyter's `normalize.less` sets `[hidden] { display: none; }` but bootstrap.min.css set `[hidden] { display: none !important; }` so we also need the `!important` here to be able to override the default hidden behavior on the sphinx rendered scikit-learn.org. See: https://github.com/scikit-learn/scikit-learn/issues/21755 */display: inline-block !important;position: relative;}#sk-container-id-1 div.sk-text-repr-fallback {display: none;}</style><div id=\"sk-container-id-1\" class=\"sk-top-container\"><div class=\"sk-text-repr-fallback\"><pre>MultinomialNB()</pre><b>In a Jupyter environment, please rerun this cell to show the HTML representation or trust the notebook. <br />On GitHub, the HTML representation is unable to render, please try loading this page with nbviewer.org.</b></div><div class=\"sk-container\" hidden><div class=\"sk-item\"><div class=\"sk-estimator sk-toggleable\"><input class=\"sk-toggleable__control sk-hidden--visually\" id=\"sk-estimator-id-1\" type=\"checkbox\" checked><label for=\"sk-estimator-id-1\" class=\"sk-toggleable__label sk-toggleable__label-arrow\">MultinomialNB</label><div class=\"sk-toggleable__content\"><pre>MultinomialNB()</pre></div></div></div></div></div>"
      ],
      "text/plain": [
       "MultinomialNB()"
      ]
     },
     "execution_count": 13,
     "metadata": {},
     "output_type": "execute_result"
    }
   ],
   "source": [
    "n = MultinomialNB()\n",
    "n.fit(x_train_count,y_train)"
   ]
  },
  {
   "cell_type": "code",
   "execution_count": 14,
   "id": "79f0bd82",
   "metadata": {
    "execution": {
     "iopub.execute_input": "2023-07-09T11:01:40.885244Z",
     "iopub.status.busy": "2023-07-09T11:01:40.884867Z",
     "iopub.status.idle": "2023-07-09T11:01:40.928325Z",
     "shell.execute_reply": "2023-07-09T11:01:40.927224Z"
    },
    "papermill": {
     "duration": 0.055524,
     "end_time": "2023-07-09T11:01:40.930810",
     "exception": false,
     "start_time": "2023-07-09T11:01:40.875286",
     "status": "completed"
    },
    "tags": []
   },
   "outputs": [
    {
     "data": {
      "text/plain": [
       "0.9849246231155779"
      ]
     },
     "execution_count": 14,
     "metadata": {},
     "output_type": "execute_result"
    }
   ],
   "source": [
    "x_test_count = v.transform(x_test)\n",
    "n.score(x_test_count,y_test)"
   ]
  },
  {
   "cell_type": "code",
   "execution_count": 15,
   "id": "c86bf31b",
   "metadata": {
    "execution": {
     "iopub.execute_input": "2023-07-09T11:01:40.949697Z",
     "iopub.status.busy": "2023-07-09T11:01:40.949292Z",
     "iopub.status.idle": "2023-07-09T11:01:40.954708Z",
     "shell.execute_reply": "2023-07-09T11:01:40.953582Z"
    },
    "papermill": {
     "duration": 0.018097,
     "end_time": "2023-07-09T11:01:40.957312",
     "exception": false,
     "start_time": "2023-07-09T11:01:40.939215",
     "status": "completed"
    },
    "tags": []
   },
   "outputs": [],
   "source": [
    "y_pred = n.predict(x_test_count)"
   ]
  },
  {
   "cell_type": "code",
   "execution_count": 16,
   "id": "486af71c",
   "metadata": {
    "execution": {
     "iopub.execute_input": "2023-07-09T11:01:40.975974Z",
     "iopub.status.busy": "2023-07-09T11:01:40.975290Z",
     "iopub.status.idle": "2023-07-09T11:01:40.982465Z",
     "shell.execute_reply": "2023-07-09T11:01:40.981696Z"
    },
    "papermill": {
     "duration": 0.018964,
     "end_time": "2023-07-09T11:01:40.984543",
     "exception": false,
     "start_time": "2023-07-09T11:01:40.965579",
     "status": "completed"
    },
    "tags": []
   },
   "outputs": [
    {
     "data": {
      "text/plain": [
       "0.9849246231155779"
      ]
     },
     "execution_count": 16,
     "metadata": {},
     "output_type": "execute_result"
    }
   ],
   "source": [
    "from sklearn.metrics import accuracy_score\n",
    "accuracy_score(y_pred,y_test)"
   ]
  },
  {
   "cell_type": "code",
   "execution_count": 17,
   "id": "3d1e08fe",
   "metadata": {
    "execution": {
     "iopub.execute_input": "2023-07-09T11:01:41.004989Z",
     "iopub.status.busy": "2023-07-09T11:01:41.002968Z",
     "iopub.status.idle": "2023-07-09T11:01:41.009835Z",
     "shell.execute_reply": "2023-07-09T11:01:41.008292Z"
    },
    "papermill": {
     "duration": 0.019799,
     "end_time": "2023-07-09T11:01:41.012826",
     "exception": false,
     "start_time": "2023-07-09T11:01:40.993027",
     "status": "completed"
    },
    "tags": []
   },
   "outputs": [],
   "source": [
    "from sklearn.model_selection import cross_val_score"
   ]
  },
  {
   "cell_type": "code",
   "execution_count": 18,
   "id": "127b966d",
   "metadata": {
    "execution": {
     "iopub.execute_input": "2023-07-09T11:01:41.032878Z",
     "iopub.status.busy": "2023-07-09T11:01:41.032259Z",
     "iopub.status.idle": "2023-07-09T11:01:41.069234Z",
     "shell.execute_reply": "2023-07-09T11:01:41.068146Z"
    },
    "papermill": {
     "duration": 0.049601,
     "end_time": "2023-07-09T11:01:41.071727",
     "exception": false,
     "start_time": "2023-07-09T11:01:41.022126",
     "status": "completed"
    },
    "tags": []
   },
   "outputs": [
    {
     "data": {
      "text/plain": [
       "0.9789422112712375"
      ]
     },
     "execution_count": 18,
     "metadata": {},
     "output_type": "execute_result"
    }
   ],
   "source": [
    "cross_val_score(n,x_train_count,y_train).mean()"
   ]
  },
  {
   "cell_type": "code",
   "execution_count": null,
   "id": "ca996c14",
   "metadata": {
    "papermill": {
     "duration": 0.008693,
     "end_time": "2023-07-09T11:01:41.089014",
     "exception": false,
     "start_time": "2023-07-09T11:01:41.080321",
     "status": "completed"
    },
    "tags": []
   },
   "outputs": [],
   "source": []
  },
  {
   "cell_type": "code",
   "execution_count": null,
   "id": "88646196",
   "metadata": {
    "papermill": {
     "duration": 0.010117,
     "end_time": "2023-07-09T11:01:41.108148",
     "exception": false,
     "start_time": "2023-07-09T11:01:41.098031",
     "status": "completed"
    },
    "tags": []
   },
   "outputs": [],
   "source": []
  },
  {
   "cell_type": "code",
   "execution_count": null,
   "id": "21b51784",
   "metadata": {
    "papermill": {
     "duration": 0.008316,
     "end_time": "2023-07-09T11:01:41.125268",
     "exception": false,
     "start_time": "2023-07-09T11:01:41.116952",
     "status": "completed"
    },
    "tags": []
   },
   "outputs": [],
   "source": []
  }
 ],
 "metadata": {
  "kernelspec": {
   "display_name": "Python 3",
   "language": "python",
   "name": "python3"
  },
  "language_info": {
   "codemirror_mode": {
    "name": "ipython",
    "version": 3
   },
   "file_extension": ".py",
   "mimetype": "text/x-python",
   "name": "python",
   "nbconvert_exporter": "python",
   "pygments_lexer": "ipython3",
   "version": "3.10.10"
  },
  "papermill": {
   "default_parameters": {},
   "duration": 16.683575,
   "end_time": "2023-07-09T11:01:42.156758",
   "environment_variables": {},
   "exception": null,
   "input_path": "__notebook__.ipynb",
   "output_path": "__notebook__.ipynb",
   "parameters": {},
   "start_time": "2023-07-09T11:01:25.473183",
   "version": "2.4.0"
  }
 },
 "nbformat": 4,
 "nbformat_minor": 5
}
